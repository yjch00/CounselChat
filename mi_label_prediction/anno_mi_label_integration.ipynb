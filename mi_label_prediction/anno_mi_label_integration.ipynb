{
 "cells": [
  {
   "cell_type": "markdown",
   "id": "716d6002",
   "metadata": {},
   "source": [
    "# AnnoMI의 Gold Label & MI Classifier로 예측한 Label 통합\n",
    "- 가상환경 t5"
   ]
  },
  {
   "cell_type": "code",
   "execution_count": 1,
   "id": "291bb312",
   "metadata": {},
   "outputs": [],
   "source": [
    "import json\n",
    "\n",
    "with open('../preprocessed_data/AnnoMI-full_v4.0.json', 'r') as f:\n",
    "    full = json.load(f)\n",
    "with open('../preprocessed_data/AnnoMI-full_v4.0_high.json', 'r') as f:\n",
    "    high = json.load(f)\n",
    "with open('../preprocessed_data/AnnoMI-full_v4.0_low.json', 'r') as f:\n",
    "    low = json.load(f)"
   ]
  },
  {
   "cell_type": "code",
   "execution_count": 2,
   "id": "e3e64100",
   "metadata": {},
   "outputs": [
    {
     "name": "stdout",
     "output_type": "stream",
     "text": [
      "133\n",
      "110\n",
      "23\n"
     ]
    }
   ],
   "source": [
    "print(len(full))\n",
    "print(len(high))\n",
    "print(len(low))"
   ]
  },
  {
   "cell_type": "markdown",
   "id": "fa8acaaa",
   "metadata": {},
   "source": [
    "## Label별 개수 EDA"
   ]
  },
  {
   "cell_type": "code",
   "execution_count": 3,
   "id": "5110bcbb",
   "metadata": {},
   "outputs": [
    {
     "name": "stdout",
     "output_type": "stream",
     "text": [
      "4440\n"
     ]
    },
    {
     "data": {
      "text/plain": [
       "[('other', 1462),\n",
       " ('question_open', 726),\n",
       " ('reflection_simple', 642),\n",
       " ('reflection_complex', 624),\n",
       " ('question_closed', 521),\n",
       " ('input_information', 319),\n",
       " ('input_advice', 69),\n",
       " ('input_negotiation', 50),\n",
       " ('input_options', 27)]"
      ]
     },
     "execution_count": 3,
     "metadata": {},
     "output_type": "execute_result"
    }
   ],
   "source": [
    "# AnnoMI의 gold label\n",
    "from collections import Counter\n",
    "\n",
    "labels = []\n",
    "\n",
    "for dialogue in high:\n",
    "    for utterance in dialogue['dialogue']:\n",
    "        if utterance['speaker'] == 'therapist':\n",
    "            for label in utterance[f\"{utterance['speaker']}_label\"]:\n",
    "                labels.append(label)\n",
    "                \n",
    "print(len(labels))\n",
    "\n",
    "counter = Counter(labels).most_common()\n",
    "counter"
   ]
  },
  {
   "cell_type": "code",
   "execution_count": 21,
   "id": "cd96f98f",
   "metadata": {},
   "outputs": [
    {
     "name": "stdout",
     "output_type": "stream",
     "text": [
      "4440\n"
     ]
    },
    {
     "data": {
      "text/plain": [
       "[('Other', 1233),\n",
       " ('Open Question', 831),\n",
       " ('Closed Question', 595),\n",
       " ('Give Information', 448),\n",
       " ('Complex Reflection', 362),\n",
       " ('Simple Reflection', 322),\n",
       " ('Affirm', 270),\n",
       " ('Advise without Permission', 117),\n",
       " ('Support', 87),\n",
       " ('Confront', 57),\n",
       " ('Self-Disclose', 40),\n",
       " ('Emphasize Autonomy', 33),\n",
       " ('Direct', 29),\n",
       " ('Advise with Permission', 12),\n",
       " ('Warn', 4)]"
      ]
     },
     "execution_count": 21,
     "metadata": {},
     "output_type": "execute_result"
    }
   ],
   "source": [
    "# MI Classifier로 예측한 label\n",
    "from collections import Counter\n",
    "\n",
    "labels = []\n",
    "\n",
    "for dialogue in high:\n",
    "    for utterance in dialogue['dialogue']:\n",
    "        if utterance['speaker'] == 'therapist':\n",
    "            labels.append(utterance['predicted_label'])\n",
    "                \n",
    "print(len(labels))\n",
    "\n",
    "counter = Counter(labels).most_common()\n",
    "counter"
   ]
  },
  {
   "cell_type": "markdown",
   "id": "f691b6f0",
   "metadata": {},
   "source": [
    "## AnnoMI의 Gold Label & MI Classifier로 예측한 Label 통합\n",
    "- AnnoMI의 gold label을 우선순위로\n",
    "- 그 다음 MI classifier predicted label 중 선택한 일부 label들\n",
    "- 나머지는 other"
   ]
  },
  {
   "cell_type": "code",
   "execution_count": 3,
   "id": "de83e312",
   "metadata": {},
   "outputs": [],
   "source": [
    "# 변환된 이름은 최대한 MITI 기준으로\n",
    "label_name_integrated = {\n",
    "    \n",
    "    # Therapist (AnnoMI Gold Label)\n",
    "    'reflection_simple': 'Simple Reflection',\n",
    "    'reflection_complex': 'Complex Reflection',\n",
    "    'question_open': 'Open Question',\n",
    "    'question_closed': 'Closed Question',\n",
    "    'input_advice': 'Advise',\n",
    "    'input_information': 'Give Information',\n",
    "    \n",
    "    # Therapist (MI Classifier로 예측한 Label)\n",
    "    'Affirm': 'Affirm',\n",
    "    'Give Information': 'Give Information',\n",
    "    'Advise with Permission': 'Advise',\n",
    "    'Advise without Permission': 'Advise',\n",
    "\n",
    "    # Client (Change & Not Change의 Binary Classification으로)\n",
    "    'change': 'Change',\n",
    "    'neutral': 'Not Change',\n",
    "    'sustain': 'Not Change'\n",
    "    \n",
    "}\n",
    "\n",
    "def capitalize(s):\n",
    "    if not s:\n",
    "        return s  # Return the original string if it's empty\n",
    "    return s[0].upper() + s[1:]"
   ]
  },
  {
   "cell_type": "code",
   "execution_count": 4,
   "id": "4b64955b",
   "metadata": {},
   "outputs": [],
   "source": [
    "# full\n",
    "for dialogue in full:\n",
    "    for utterance in dialogue['dialogue']:\n",
    "        \n",
    "        # Therapist\n",
    "        if utterance['speaker'] == 'therapist':\n",
    "            if utterance['therapist_label'][0] in ['question_closed', 'question_open', 'reflection_simple', 'reflection_complex', 'input_information', 'input_advice']:\n",
    "                utterance['label'] = label_name_integrated[utterance['therapist_label'][0]]\n",
    "            elif utterance['predicted_label'] in ['Affirm', 'Give Information', 'Advise with Permission', 'Advise without Permission']:\n",
    "                utterance['label'] = label_name_integrated[utterance['predicted_label']]\n",
    "            else:\n",
    "                utterance['label'] = 'Other'\n",
    "                \n",
    "            del utterance['therapist_label']\n",
    "            del utterance['predicted_label']\n",
    "            del utterance['converted_label']\n",
    "        \n",
    "        # Client\n",
    "        else:\n",
    "            utterance['label'] = label_name_integrated[utterance['client_label'][0]]\n",
    "\n",
    "            del utterance['client_label']"
   ]
  },
  {
   "cell_type": "code",
   "execution_count": 5,
   "id": "3d1918f2",
   "metadata": {},
   "outputs": [],
   "source": [
    "# high\n",
    "for dialogue in high:\n",
    "    for utterance in dialogue['dialogue']:\n",
    "        \n",
    "        # Therapist\n",
    "        if utterance['speaker'] == 'therapist':\n",
    "            if utterance['therapist_label'][0] in ['question_closed', 'question_open', 'reflection_simple', 'reflection_complex', 'input_information', 'input_advice']:\n",
    "                utterance['label'] = label_name_integrated[utterance['therapist_label'][0]]\n",
    "            elif utterance['predicted_label'] in ['Affirm', 'Give Information', 'Advise with Permission', 'Advise without Permission']:\n",
    "                utterance['label'] = label_name_integrated[utterance['predicted_label']]\n",
    "            else:\n",
    "                utterance['label'] = 'Other'\n",
    "                \n",
    "            del utterance['therapist_label']\n",
    "            del utterance['predicted_label']\n",
    "            del utterance['converted_label']\n",
    "        \n",
    "        # Client\n",
    "        else:\n",
    "            utterance['label'] = label_name_integrated[utterance['client_label'][0]]\n",
    "\n",
    "            del utterance['client_label']"
   ]
  },
  {
   "cell_type": "code",
   "execution_count": 6,
   "id": "0fc9c0b6",
   "metadata": {},
   "outputs": [],
   "source": [
    "# low\n",
    "for dialogue in low:\n",
    "    for utterance in dialogue['dialogue']:\n",
    "        \n",
    "        # Therapist\n",
    "        if utterance['speaker'] == 'therapist':\n",
    "            if utterance['therapist_label'][0] in ['question_closed', 'question_open', 'reflection_simple', 'reflection_complex', 'input_information', 'input_advice']:\n",
    "                utterance['label'] = label_name_integrated[utterance['therapist_label'][0]]\n",
    "            elif utterance['predicted_label'] in ['Affirm', 'Give Information', 'Advise with Permission', 'Advise without Permission']:\n",
    "                utterance['label'] = label_name_integrated[utterance['predicted_label']]\n",
    "            else:\n",
    "                utterance['label'] = 'Other'\n",
    "                \n",
    "            del utterance['therapist_label']\n",
    "            del utterance['predicted_label']\n",
    "            del utterance['converted_label']\n",
    "        \n",
    "        # Client\n",
    "        else:\n",
    "            utterance['label'] = label_name_integrated[utterance['client_label'][0]]\n",
    "\n",
    "            del utterance['client_label']"
   ]
  },
  {
   "cell_type": "code",
   "execution_count": 7,
   "id": "7bd7c33a",
   "metadata": {},
   "outputs": [
    {
     "name": "stdout",
     "output_type": "stream",
     "text": [
      "133\n",
      "110\n",
      "23\n"
     ]
    }
   ],
   "source": [
    "print(len(full))\n",
    "print(len(high))\n",
    "print(len(low))"
   ]
  },
  {
   "cell_type": "code",
   "execution_count": 8,
   "id": "3464fd17",
   "metadata": {},
   "outputs": [],
   "source": [
    "with open('../preprocessed_data/AnnoMI-full_v5.0.json', 'w') as f:\n",
    "    json.dump(full, f, indent='\\t')\n",
    "with open('../preprocessed_data/AnnoMI-full_v5.0_high.json', 'w') as f:\n",
    "    json.dump(high, f, indent='\\t')\n",
    "with open('../preprocessed_data/AnnoMI-full_v5.0_low.json', 'w') as f:\n",
    "    json.dump(low, f, indent='\\t')"
   ]
  },
  {
   "cell_type": "markdown",
   "id": "3768008f",
   "metadata": {},
   "source": [
    "## 통합한 데이터셋 Label별 개수 EDA"
   ]
  },
  {
   "cell_type": "code",
   "execution_count": 9,
   "id": "d3ad92d9",
   "metadata": {},
   "outputs": [],
   "source": [
    "import json\n",
    "\n",
    "with open('../preprocessed_data/AnnoMI-full_v5.0.json', 'r') as f:\n",
    "    full = json.load(f)\n",
    "with open('../preprocessed_data/AnnoMI-full_v5.0_high.json', 'r') as f:\n",
    "    high = json.load(f)\n",
    "with open('../preprocessed_data/AnnoMI-full_v5.0_low.json', 'r') as f:\n",
    "    low = json.load(f)"
   ]
  },
  {
   "cell_type": "code",
   "execution_count": 10,
   "id": "cc555770",
   "metadata": {},
   "outputs": [
    {
     "name": "stdout",
     "output_type": "stream",
     "text": [
      "4881\n"
     ]
    },
    {
     "data": {
      "text/plain": [
       "[('Other', 1407),\n",
       " ('Open Question', 821),\n",
       " ('Simple Reflection', 660),\n",
       " ('Complex Reflection', 637),\n",
       " ('Closed Question', 567),\n",
       " ('Give Information', 457),\n",
       " ('Affirm', 166),\n",
       " ('Advise', 166)]"
      ]
     },
     "execution_count": 10,
     "metadata": {},
     "output_type": "execute_result"
    }
   ],
   "source": [
    "# full\n",
    "from collections import Counter\n",
    "\n",
    "labels = []\n",
    "\n",
    "for dialogue in full:\n",
    "    for utterance in dialogue['dialogue']:\n",
    "        if utterance['speaker'] == 'therapist':\n",
    "            labels.append(utterance['label'])\n",
    "                \n",
    "print(len(labels))\n",
    "\n",
    "counter = Counter(labels).most_common()\n",
    "counter"
   ]
  },
  {
   "cell_type": "code",
   "execution_count": 11,
   "id": "7adb38fe",
   "metadata": {},
   "outputs": [
    {
     "name": "stdout",
     "output_type": "stream",
     "text": [
      "4440\n"
     ]
    },
    {
     "data": {
      "text/plain": [
       "[('Other', 1305),\n",
       " ('Open Question', 726),\n",
       " ('Simple Reflection', 642),\n",
       " ('Complex Reflection', 624),\n",
       " ('Closed Question', 521),\n",
       " ('Give Information', 380),\n",
       " ('Affirm', 151),\n",
       " ('Advise', 91)]"
      ]
     },
     "execution_count": 11,
     "metadata": {},
     "output_type": "execute_result"
    }
   ],
   "source": [
    "# high\n",
    "from collections import Counter\n",
    "\n",
    "labels = []\n",
    "\n",
    "for dialogue in high:\n",
    "    for utterance in dialogue['dialogue']:\n",
    "        if utterance['speaker'] == 'therapist':\n",
    "            labels.append(utterance['label'])\n",
    "                \n",
    "print(len(labels))\n",
    "\n",
    "counter = Counter(labels).most_common()\n",
    "counter"
   ]
  },
  {
   "cell_type": "code",
   "execution_count": 12,
   "id": "00d6f63b",
   "metadata": {},
   "outputs": [
    {
     "name": "stdout",
     "output_type": "stream",
     "text": [
      "441\n"
     ]
    },
    {
     "data": {
      "text/plain": [
       "[('Other', 102),\n",
       " ('Open Question', 95),\n",
       " ('Give Information', 77),\n",
       " ('Advise', 75),\n",
       " ('Closed Question', 46),\n",
       " ('Simple Reflection', 18),\n",
       " ('Affirm', 15),\n",
       " ('Complex Reflection', 13)]"
      ]
     },
     "execution_count": 12,
     "metadata": {},
     "output_type": "execute_result"
    }
   ],
   "source": [
    "# low\n",
    "from collections import Counter\n",
    "\n",
    "labels = []\n",
    "\n",
    "for dialogue in low:\n",
    "    for utterance in dialogue['dialogue']:\n",
    "        if utterance['speaker'] == 'therapist':\n",
    "            labels.append(utterance['label'])\n",
    "                \n",
    "print(len(labels))\n",
    "\n",
    "counter = Counter(labels).most_common()\n",
    "counter"
   ]
  }
 ],
 "metadata": {
  "kernelspec": {
   "display_name": "Python [conda env:t5]",
   "language": "python",
   "name": "conda-env-t5-py"
  },
  "language_info": {
   "codemirror_mode": {
    "name": "ipython",
    "version": 3
   },
   "file_extension": ".py",
   "mimetype": "text/x-python",
   "name": "python",
   "nbconvert_exporter": "python",
   "pygments_lexer": "ipython3",
   "version": "3.9.18"
  }
 },
 "nbformat": 4,
 "nbformat_minor": 5
}
